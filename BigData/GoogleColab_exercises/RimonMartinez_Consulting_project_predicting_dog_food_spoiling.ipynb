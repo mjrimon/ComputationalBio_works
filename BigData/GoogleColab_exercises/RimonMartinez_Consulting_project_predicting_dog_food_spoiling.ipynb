{
  "nbformat": 4,
  "nbformat_minor": 0,
  "metadata": {
    "colab": {
      "provenance": []
    },
    "kernelspec": {
      "name": "python3",
      "display_name": "Python 3"
    },
    "language_info": {
      "name": "python"
    }
  },
  "cells": [
    {
      "cell_type": "code",
      "execution_count": null,
      "metadata": {
        "colab": {
          "base_uri": "https://localhost:8080/"
        },
        "id": "dKqQJJPOROFv",
        "outputId": "a0fdc098-3bb9-439a-a150-b0f365d570ed"
      },
      "outputs": [
        {
          "output_type": "stream",
          "name": "stdout",
          "text": [
            "\r0% [Working]\r            \rGet:1 https://cloud.r-project.org/bin/linux/ubuntu bionic-cran40/ InRelease [3,626 B]\n",
            "\r0% [Connecting to archive.ubuntu.com] [Connecting to security.ubuntu.com] [1 In\r0% [Connecting to archive.ubuntu.com] [Connecting to security.ubuntu.com] [Wait\r0% [1 InRelease gpgv 3,626 B] [Connecting to archive.ubuntu.com (185.125.190.36\r                                                                               \rGet:2 http://security.ubuntu.com/ubuntu bionic-security InRelease [88.7 kB]\n",
            "\r0% [1 InRelease gpgv 3,626 B] [Connecting to archive.ubuntu.com (185.125.190.36\r0% [1 InRelease gpgv 3,626 B] [Connecting to archive.ubuntu.com (185.125.190.36\r                                                                               \rIgn:3 https://developer.download.nvidia.com/compute/machine-learning/repos/ubuntu1804/x86_64  InRelease\n",
            "\r0% [1 InRelease gpgv 3,626 B] [Waiting for headers] [Waiting for headers] [Wait\r                                                                               \rHit:4 https://developer.download.nvidia.com/compute/cuda/repos/ubuntu1804/x86_64  InRelease\n",
            "\r                                                                               \r0% [1 InRelease gpgv 3,626 B] [Waiting for headers] [Waiting for headers]\r                                                                         \rHit:5 https://developer.download.nvidia.com/compute/machine-learning/repos/ubuntu1804/x86_64  Release\n",
            "\r0% [1 InRelease gpgv 3,626 B] [Waiting for headers] [Waiting for headers]\r                                                                         \rHit:6 http://archive.ubuntu.com/ubuntu bionic InRelease\n",
            "Hit:7 http://ppa.launchpad.net/c2d4u.team/c2d4u4.0+/ubuntu bionic InRelease\n",
            "Get:8 http://archive.ubuntu.com/ubuntu bionic-updates InRelease [88.7 kB]\n",
            "Hit:9 http://ppa.launchpad.net/cran/libgit2/ubuntu bionic InRelease\n",
            "Hit:10 http://ppa.launchpad.net/deadsnakes/ppa/ubuntu bionic InRelease\n",
            "Get:11 http://security.ubuntu.com/ubuntu bionic-security/restricted amd64 Packages [1,259 kB]\n",
            "Get:12 http://archive.ubuntu.com/ubuntu bionic-backports InRelease [83.3 kB]\n",
            "Get:13 http://security.ubuntu.com/ubuntu bionic-security/universe amd64 Packages [1,561 kB]\n",
            "Hit:14 http://ppa.launchpad.net/graphics-drivers/ppa/ubuntu bionic InRelease\n",
            "Get:15 http://security.ubuntu.com/ubuntu bionic-security/main amd64 Packages [3,067 kB]\n",
            "Get:17 http://archive.ubuntu.com/ubuntu bionic-updates/universe amd64 Packages [2,338 kB]\n",
            "Get:18 http://archive.ubuntu.com/ubuntu bionic-updates/main amd64 Packages [3,493 kB]\n",
            "Get:19 http://archive.ubuntu.com/ubuntu bionic-updates/restricted amd64 Packages [1,300 kB]\n",
            "Get:20 http://archive.ubuntu.com/ubuntu bionic-backports/universe amd64 Packages [20.5 kB]\n",
            "Get:21 http://archive.ubuntu.com/ubuntu bionic-backports/main amd64 Packages [64.0 kB]\n",
            "Fetched 13.4 MB in 3s (4,147 kB/s)\n",
            "Reading package lists... Done\n"
          ]
        }
      ],
      "source": [
        "appname = \"dog food spoiling\"\n",
        "\n",
        "# Look into https://spark.apache.org/downloads.html for the latest version\n",
        "spark_mirror = \"https://mirrors.sonic.net/apache/spark\"\n",
        "spark_version = \"3.3.1\"\n",
        "hadoop_version = \"3\"\n",
        "\n",
        "# Install Java 8 (Spark does not work with newer Java versions)\n",
        "! apt-get update\n",
        "! apt-get install openjdk-8-jdk-headless -qq > /dev/null\n",
        "\n",
        "# Download and extract Spark binary distribution\n",
        "! rm -rf spark-{spark_version}-bin-hadoop{hadoop_version}.tgz spark-{spark_version}-bin-hadoop{hadoop_version}\n",
        "! wget -q {spark_mirror}/spark-{spark_version}/spark-{spark_version}-bin-hadoop{hadoop_version}.tgz\n",
        "! tar xzf spark-{spark_version}-bin-hadoop{hadoop_version}.tgz\n",
        "\n",
        "# The only 2 environment variables needed to set up Java and Spark\n",
        "import os\n",
        "os.environ[\"JAVA_HOME\"] = \"/usr/lib/jvm/java-8-openjdk-amd64\"\n",
        "os.environ[\"SPARK_HOME\"] = f\"/content/spark-{spark_version}-bin-hadoop{hadoop_version}\"\n",
        "\n",
        "# Set up the Spark environment based on the environment variable SPARK_HOME \n",
        "! pip install -q findspark\n",
        "import findspark\n",
        "findspark.init()\n",
        "\n",
        "# Get the Spark session object (basic entry point for every operation)\n",
        "from pyspark.sql import SparkSession\n",
        "spark = SparkSession.builder.appName(appname).master(\"local[*]\").getOrCreate()"
      ]
    },
    {
      "cell_type": "code",
      "source": [
        "#DOWNLOAD AND READ THE FILES\n",
        "from google.colab import files \n",
        "  \n",
        "dog_food = files.upload()"
      ],
      "metadata": {
        "colab": {
          "base_uri": "https://localhost:8080/",
          "height": 73
        },
        "id": "Adm9z-VvTRnY",
        "outputId": "f9fefab5-6528-4edb-f146-0ad9fc92acbd"
      },
      "execution_count": null,
      "outputs": [
        {
          "output_type": "display_data",
          "data": {
            "text/plain": [
              "<IPython.core.display.HTML object>"
            ],
            "text/html": [
              "\n",
              "     <input type=\"file\" id=\"files-4a1d8e33-5563-437d-b9b0-3d0d92aa981b\" name=\"files[]\" multiple disabled\n",
              "        style=\"border:none\" />\n",
              "     <output id=\"result-4a1d8e33-5563-437d-b9b0-3d0d92aa981b\">\n",
              "      Upload widget is only available when the cell has been executed in the\n",
              "      current browser session. Please rerun this cell to enable.\n",
              "      </output>\n",
              "      <script>// Copyright 2017 Google LLC\n",
              "//\n",
              "// Licensed under the Apache License, Version 2.0 (the \"License\");\n",
              "// you may not use this file except in compliance with the License.\n",
              "// You may obtain a copy of the License at\n",
              "//\n",
              "//      http://www.apache.org/licenses/LICENSE-2.0\n",
              "//\n",
              "// Unless required by applicable law or agreed to in writing, software\n",
              "// distributed under the License is distributed on an \"AS IS\" BASIS,\n",
              "// WITHOUT WARRANTIES OR CONDITIONS OF ANY KIND, either express or implied.\n",
              "// See the License for the specific language governing permissions and\n",
              "// limitations under the License.\n",
              "\n",
              "/**\n",
              " * @fileoverview Helpers for google.colab Python module.\n",
              " */\n",
              "(function(scope) {\n",
              "function span(text, styleAttributes = {}) {\n",
              "  const element = document.createElement('span');\n",
              "  element.textContent = text;\n",
              "  for (const key of Object.keys(styleAttributes)) {\n",
              "    element.style[key] = styleAttributes[key];\n",
              "  }\n",
              "  return element;\n",
              "}\n",
              "\n",
              "// Max number of bytes which will be uploaded at a time.\n",
              "const MAX_PAYLOAD_SIZE = 100 * 1024;\n",
              "\n",
              "function _uploadFiles(inputId, outputId) {\n",
              "  const steps = uploadFilesStep(inputId, outputId);\n",
              "  const outputElement = document.getElementById(outputId);\n",
              "  // Cache steps on the outputElement to make it available for the next call\n",
              "  // to uploadFilesContinue from Python.\n",
              "  outputElement.steps = steps;\n",
              "\n",
              "  return _uploadFilesContinue(outputId);\n",
              "}\n",
              "\n",
              "// This is roughly an async generator (not supported in the browser yet),\n",
              "// where there are multiple asynchronous steps and the Python side is going\n",
              "// to poll for completion of each step.\n",
              "// This uses a Promise to block the python side on completion of each step,\n",
              "// then passes the result of the previous step as the input to the next step.\n",
              "function _uploadFilesContinue(outputId) {\n",
              "  const outputElement = document.getElementById(outputId);\n",
              "  const steps = outputElement.steps;\n",
              "\n",
              "  const next = steps.next(outputElement.lastPromiseValue);\n",
              "  return Promise.resolve(next.value.promise).then((value) => {\n",
              "    // Cache the last promise value to make it available to the next\n",
              "    // step of the generator.\n",
              "    outputElement.lastPromiseValue = value;\n",
              "    return next.value.response;\n",
              "  });\n",
              "}\n",
              "\n",
              "/**\n",
              " * Generator function which is called between each async step of the upload\n",
              " * process.\n",
              " * @param {string} inputId Element ID of the input file picker element.\n",
              " * @param {string} outputId Element ID of the output display.\n",
              " * @return {!Iterable<!Object>} Iterable of next steps.\n",
              " */\n",
              "function* uploadFilesStep(inputId, outputId) {\n",
              "  const inputElement = document.getElementById(inputId);\n",
              "  inputElement.disabled = false;\n",
              "\n",
              "  const outputElement = document.getElementById(outputId);\n",
              "  outputElement.innerHTML = '';\n",
              "\n",
              "  const pickedPromise = new Promise((resolve) => {\n",
              "    inputElement.addEventListener('change', (e) => {\n",
              "      resolve(e.target.files);\n",
              "    });\n",
              "  });\n",
              "\n",
              "  const cancel = document.createElement('button');\n",
              "  inputElement.parentElement.appendChild(cancel);\n",
              "  cancel.textContent = 'Cancel upload';\n",
              "  const cancelPromise = new Promise((resolve) => {\n",
              "    cancel.onclick = () => {\n",
              "      resolve(null);\n",
              "    };\n",
              "  });\n",
              "\n",
              "  // Wait for the user to pick the files.\n",
              "  const files = yield {\n",
              "    promise: Promise.race([pickedPromise, cancelPromise]),\n",
              "    response: {\n",
              "      action: 'starting',\n",
              "    }\n",
              "  };\n",
              "\n",
              "  cancel.remove();\n",
              "\n",
              "  // Disable the input element since further picks are not allowed.\n",
              "  inputElement.disabled = true;\n",
              "\n",
              "  if (!files) {\n",
              "    return {\n",
              "      response: {\n",
              "        action: 'complete',\n",
              "      }\n",
              "    };\n",
              "  }\n",
              "\n",
              "  for (const file of files) {\n",
              "    const li = document.createElement('li');\n",
              "    li.append(span(file.name, {fontWeight: 'bold'}));\n",
              "    li.append(span(\n",
              "        `(${file.type || 'n/a'}) - ${file.size} bytes, ` +\n",
              "        `last modified: ${\n",
              "            file.lastModifiedDate ? file.lastModifiedDate.toLocaleDateString() :\n",
              "                                    'n/a'} - `));\n",
              "    const percent = span('0% done');\n",
              "    li.appendChild(percent);\n",
              "\n",
              "    outputElement.appendChild(li);\n",
              "\n",
              "    const fileDataPromise = new Promise((resolve) => {\n",
              "      const reader = new FileReader();\n",
              "      reader.onload = (e) => {\n",
              "        resolve(e.target.result);\n",
              "      };\n",
              "      reader.readAsArrayBuffer(file);\n",
              "    });\n",
              "    // Wait for the data to be ready.\n",
              "    let fileData = yield {\n",
              "      promise: fileDataPromise,\n",
              "      response: {\n",
              "        action: 'continue',\n",
              "      }\n",
              "    };\n",
              "\n",
              "    // Use a chunked sending to avoid message size limits. See b/62115660.\n",
              "    let position = 0;\n",
              "    do {\n",
              "      const length = Math.min(fileData.byteLength - position, MAX_PAYLOAD_SIZE);\n",
              "      const chunk = new Uint8Array(fileData, position, length);\n",
              "      position += length;\n",
              "\n",
              "      const base64 = btoa(String.fromCharCode.apply(null, chunk));\n",
              "      yield {\n",
              "        response: {\n",
              "          action: 'append',\n",
              "          file: file.name,\n",
              "          data: base64,\n",
              "        },\n",
              "      };\n",
              "\n",
              "      let percentDone = fileData.byteLength === 0 ?\n",
              "          100 :\n",
              "          Math.round((position / fileData.byteLength) * 100);\n",
              "      percent.textContent = `${percentDone}% done`;\n",
              "\n",
              "    } while (position < fileData.byteLength);\n",
              "  }\n",
              "\n",
              "  // All done.\n",
              "  yield {\n",
              "    response: {\n",
              "      action: 'complete',\n",
              "    }\n",
              "  };\n",
              "}\n",
              "\n",
              "scope.google = scope.google || {};\n",
              "scope.google.colab = scope.google.colab || {};\n",
              "scope.google.colab._files = {\n",
              "  _uploadFiles,\n",
              "  _uploadFilesContinue,\n",
              "};\n",
              "})(self);\n",
              "</script> "
            ]
          },
          "metadata": {}
        },
        {
          "output_type": "stream",
          "name": "stdout",
          "text": [
            "Saving dog_food.csv to dog_food.csv\n"
          ]
        }
      ]
    },
    {
      "cell_type": "code",
      "source": [
        "df = spark.read.options(inferSchema=True, header=True).csv('dog_food.csv')\n",
        "df.show()"
      ],
      "metadata": {
        "colab": {
          "base_uri": "https://localhost:8080/"
        },
        "id": "lwwIovq3TddZ",
        "outputId": "ef06da71-8eef-4964-f0ee-2155d78830c7"
      },
      "execution_count": null,
      "outputs": [
        {
          "output_type": "stream",
          "name": "stdout",
          "text": [
            "+---+---+----+---+-------+\n",
            "|  A|  B|   C|  D|Spoiled|\n",
            "+---+---+----+---+-------+\n",
            "|  4|  2|12.0|  3|    1.0|\n",
            "|  5|  6|12.0|  7|    1.0|\n",
            "|  6|  2|13.0|  6|    1.0|\n",
            "|  4|  2|12.0|  1|    1.0|\n",
            "|  4|  2|12.0|  3|    1.0|\n",
            "| 10|  3|13.0|  9|    1.0|\n",
            "|  8|  5|14.0|  5|    1.0|\n",
            "|  5|  8|12.0|  8|    1.0|\n",
            "|  6|  5|12.0|  9|    1.0|\n",
            "|  3|  3|12.0|  1|    1.0|\n",
            "|  9|  8|11.0|  3|    1.0|\n",
            "|  1| 10|12.0|  3|    1.0|\n",
            "|  1|  5|13.0| 10|    1.0|\n",
            "|  2| 10|12.0|  6|    1.0|\n",
            "|  1| 10|11.0|  4|    1.0|\n",
            "|  5|  3|12.0|  2|    1.0|\n",
            "|  4|  9|11.0|  8|    1.0|\n",
            "|  5|  1|11.0|  1|    1.0|\n",
            "|  4|  9|12.0| 10|    1.0|\n",
            "|  5|  8|10.0|  9|    1.0|\n",
            "+---+---+----+---+-------+\n",
            "only showing top 20 rows\n",
            "\n"
          ]
        }
      ]
    },
    {
      "cell_type": "code",
      "source": [
        "#VECTORASSEMBLER ASSEMBLES ALL THE FEATURES INTO ONE VECTOR FROM MULTIPLE COLUMNS THAT CONTAIN TYPE DOUBLE. \n",
        "from pyspark.ml.feature import VectorAssembler\n",
        "assembler = VectorAssembler(inputCols=['A', 'B', 'C', 'D'], outputCol = 'features')\n",
        "output = assembler.transform(df)\n",
        "compared_data = output.select(\"features\",\"Spoiled\")\n",
        "df2 = compared_data.withColumnRenamed(\"Spoiled\",\"label\")\n",
        "df2.printSchema()\n"
      ],
      "metadata": {
        "colab": {
          "base_uri": "https://localhost:8080/"
        },
        "id": "wxP8X8bxzyHO",
        "outputId": "1b0f2ae2-4c74-4fc4-9ffc-653ecfc9c2b8"
      },
      "execution_count": null,
      "outputs": [
        {
          "output_type": "stream",
          "name": "stdout",
          "text": [
            "root\n",
            " |-- features: vector (nullable = true)\n",
            " |-- label: double (nullable = true)\n",
            "\n"
          ]
        }
      ]
    },
    {
      "cell_type": "code",
      "source": [
        "df2.show()"
      ],
      "metadata": {
        "colab": {
          "base_uri": "https://localhost:8080/"
        },
        "id": "QHygfGxq1oj4",
        "outputId": "6fc24827-e31c-4bc1-a7e0-9e4017be5066"
      },
      "execution_count": null,
      "outputs": [
        {
          "output_type": "stream",
          "name": "stdout",
          "text": [
            "+-------------------+-----+\n",
            "|           features|label|\n",
            "+-------------------+-----+\n",
            "| [4.0,2.0,12.0,3.0]|  1.0|\n",
            "| [5.0,6.0,12.0,7.0]|  1.0|\n",
            "| [6.0,2.0,13.0,6.0]|  1.0|\n",
            "| [4.0,2.0,12.0,1.0]|  1.0|\n",
            "| [4.0,2.0,12.0,3.0]|  1.0|\n",
            "|[10.0,3.0,13.0,9.0]|  1.0|\n",
            "| [8.0,5.0,14.0,5.0]|  1.0|\n",
            "| [5.0,8.0,12.0,8.0]|  1.0|\n",
            "| [6.0,5.0,12.0,9.0]|  1.0|\n",
            "| [3.0,3.0,12.0,1.0]|  1.0|\n",
            "| [9.0,8.0,11.0,3.0]|  1.0|\n",
            "|[1.0,10.0,12.0,3.0]|  1.0|\n",
            "|[1.0,5.0,13.0,10.0]|  1.0|\n",
            "|[2.0,10.0,12.0,6.0]|  1.0|\n",
            "|[1.0,10.0,11.0,4.0]|  1.0|\n",
            "| [5.0,3.0,12.0,2.0]|  1.0|\n",
            "| [4.0,9.0,11.0,8.0]|  1.0|\n",
            "| [5.0,1.0,11.0,1.0]|  1.0|\n",
            "|[4.0,9.0,12.0,10.0]|  1.0|\n",
            "| [5.0,8.0,10.0,9.0]|  1.0|\n",
            "+-------------------+-----+\n",
            "only showing top 20 rows\n",
            "\n"
          ]
        }
      ]
    },
    {
      "cell_type": "code",
      "source": [
        "#IMPORT THE TREE METHODS\n",
        "from pyspark.ml.classification import (RandomForestClassifier, GBTClassifier,\n",
        "                                       DecisionTreeClassifier)"
      ],
      "metadata": {
        "id": "LdH5biuLrBJe"
      },
      "execution_count": null,
      "outputs": []
    },
    {
      "cell_type": "code",
      "source": [
        "#TRAIN THE DATA AND CREATE THE MODEL\n",
        "train, test = df2.randomSplit([0.7, 0.3])"
      ],
      "metadata": {
        "id": "48XiF1gBqdtX"
      },
      "execution_count": null,
      "outputs": []
    },
    {
      "cell_type": "code",
      "source": [
        "dtc = DecisionTreeClassifier()\n",
        "rfc = RandomForestClassifier(numTrees = 100)\n",
        "gbt = GBTClassifier()"
      ],
      "metadata": {
        "id": "olOCucwCqjdm"
      },
      "execution_count": null,
      "outputs": []
    },
    {
      "cell_type": "code",
      "source": [
        "test.show()"
      ],
      "metadata": {
        "colab": {
          "base_uri": "https://localhost:8080/"
        },
        "id": "gUi2GFdSrUDU",
        "outputId": "c618dd05-955e-4089-a81c-c0b10117b8cc"
      },
      "execution_count": null,
      "outputs": [
        {
          "output_type": "stream",
          "name": "stdout",
          "text": [
            "+-------------------+-----+\n",
            "|           features|label|\n",
            "+-------------------+-----+\n",
            "| [1.0,1.0,12.0,2.0]|  1.0|\n",
            "|  [1.0,2.0,9.0,1.0]|  0.0|\n",
            "|  [1.0,3.0,8.0,3.0]|  0.0|\n",
            "|  [1.0,3.0,9.0,8.0]|  0.0|\n",
            "|[1.0,5.0,12.0,10.0]|  1.0|\n",
            "|  [1.0,6.0,7.0,8.0]|  0.0|\n",
            "|  [1.0,6.0,8.0,1.0]|  0.0|\n",
            "|  [1.0,6.0,8.0,3.0]|  0.0|\n",
            "| [1.0,8.0,7.0,10.0]|  0.0|\n",
            "|  [1.0,8.0,8.0,7.0]|  0.0|\n",
            "| [1.0,8.0,12.0,1.0]|  1.0|\n",
            "|  [1.0,9.0,7.0,4.0]|  0.0|\n",
            "|[1.0,10.0,11.0,4.0]|  1.0|\n",
            "|  [2.0,2.0,9.0,8.0]|  0.0|\n",
            "|  [2.0,3.0,9.0,3.0]|  0.0|\n",
            "| [2.0,4.0,13.0,4.0]|  1.0|\n",
            "|  [2.0,5.0,8.0,3.0]|  0.0|\n",
            "|  [2.0,5.0,8.0,3.0]|  0.0|\n",
            "|  [2.0,6.0,6.0,9.0]|  0.0|\n",
            "| [2.0,6.0,8.0,10.0]|  0.0|\n",
            "+-------------------+-----+\n",
            "only showing top 20 rows\n",
            "\n"
          ]
        }
      ]
    },
    {
      "cell_type": "code",
      "source": [
        "dtc_model = dtc.fit(train)\n",
        "rfc_model = rfc.fit(train)\n",
        "gbt_model = gbt.fit(train)"
      ],
      "metadata": {
        "id": "Enkd8BqrqjjM"
      },
      "execution_count": null,
      "outputs": []
    },
    {
      "cell_type": "code",
      "source": [
        "dtc_preds = dtc_model.transform(test)\n",
        "rfc_preds = rfc_model.transform(test)\n",
        "gbt_preds = gbt_model.transform(test)"
      ],
      "metadata": {
        "id": "aX_Np5J8qsLh"
      },
      "execution_count": null,
      "outputs": []
    },
    {
      "cell_type": "code",
      "source": [
        "dtc_preds.show()"
      ],
      "metadata": {
        "colab": {
          "base_uri": "https://localhost:8080/"
        },
        "id": "5tsGlZVmriLK",
        "outputId": "ed1d5ae4-95e5-468f-f682-bf29743c52ef"
      },
      "execution_count": null,
      "outputs": [
        {
          "output_type": "stream",
          "name": "stdout",
          "text": [
            "+-------------------+-----+-------------+-----------+----------+\n",
            "|           features|label|rawPrediction|probability|prediction|\n",
            "+-------------------+-----+-------------+-----------+----------+\n",
            "| [1.0,1.0,12.0,2.0]|  1.0|   [0.0,62.0]|  [0.0,1.0]|       1.0|\n",
            "|  [1.0,2.0,9.0,1.0]|  0.0|    [6.0,0.0]|  [1.0,0.0]|       0.0|\n",
            "|  [1.0,3.0,8.0,3.0]|  0.0|  [183.0,0.0]|  [1.0,0.0]|       0.0|\n",
            "|  [1.0,3.0,9.0,8.0]|  0.0|  [183.0,0.0]|  [1.0,0.0]|       0.0|\n",
            "|[1.0,5.0,12.0,10.0]|  1.0|   [0.0,62.0]|  [0.0,1.0]|       1.0|\n",
            "|  [1.0,6.0,7.0,8.0]|  0.0|  [183.0,0.0]|  [1.0,0.0]|       0.0|\n",
            "|  [1.0,6.0,8.0,1.0]|  0.0|   [26.0,0.0]|  [1.0,0.0]|       0.0|\n",
            "|  [1.0,6.0,8.0,3.0]|  0.0|  [183.0,0.0]|  [1.0,0.0]|       0.0|\n",
            "| [1.0,8.0,7.0,10.0]|  0.0|  [183.0,0.0]|  [1.0,0.0]|       0.0|\n",
            "|  [1.0,8.0,8.0,7.0]|  0.0|  [183.0,0.0]|  [1.0,0.0]|       0.0|\n",
            "| [1.0,8.0,12.0,1.0]|  1.0|   [0.0,62.0]|  [0.0,1.0]|       1.0|\n",
            "|  [1.0,9.0,7.0,4.0]|  0.0|  [183.0,0.0]|  [1.0,0.0]|       0.0|\n",
            "|[1.0,10.0,11.0,4.0]|  1.0|    [0.0,2.0]|  [0.0,1.0]|       1.0|\n",
            "|  [2.0,2.0,9.0,8.0]|  0.0|  [183.0,0.0]|  [1.0,0.0]|       0.0|\n",
            "|  [2.0,3.0,9.0,3.0]|  0.0|  [183.0,0.0]|  [1.0,0.0]|       0.0|\n",
            "| [2.0,4.0,13.0,4.0]|  1.0|   [0.0,62.0]|  [0.0,1.0]|       1.0|\n",
            "|  [2.0,5.0,8.0,3.0]|  0.0|  [183.0,0.0]|  [1.0,0.0]|       0.0|\n",
            "|  [2.0,5.0,8.0,3.0]|  0.0|  [183.0,0.0]|  [1.0,0.0]|       0.0|\n",
            "|  [2.0,6.0,6.0,9.0]|  0.0|  [183.0,0.0]|  [1.0,0.0]|       0.0|\n",
            "| [2.0,6.0,8.0,10.0]|  0.0|  [183.0,0.0]|  [1.0,0.0]|       0.0|\n",
            "+-------------------+-----+-------------+-----------+----------+\n",
            "only showing top 20 rows\n",
            "\n"
          ]
        }
      ]
    },
    {
      "cell_type": "code",
      "source": [
        "#IMPORT THE EVALUATORS\n",
        "from pyspark.ml.evaluation import MulticlassClassificationEvaluator\n",
        "evaluator = MulticlassClassificationEvaluator(metricName='accuracy')"
      ],
      "metadata": {
        "id": "nJ_vbC2-2KZ4"
      },
      "execution_count": null,
      "outputs": []
    },
    {
      "cell_type": "code",
      "source": [
        "print(evaluator.explainParam('metricName'))"
      ],
      "metadata": {
        "colab": {
          "base_uri": "https://localhost:8080/"
        },
        "id": "r2pOGW7y2LMp",
        "outputId": "8c44cb7e-54f2-4b1d-8b1a-dcdd32e66889"
      },
      "execution_count": null,
      "outputs": [
        {
          "output_type": "stream",
          "name": "stdout",
          "text": [
            "metricName: metric name in evaluation (f1|accuracy|weightedPrecision|weightedRecall|weightedTruePositiveRate| weightedFalsePositiveRate|weightedFMeasure|truePositiveRateByLabel| falsePositiveRateByLabel|precisionByLabel|recallByLabel|fMeasureByLabel| logLoss|hammingLoss) (default: f1, current: accuracy)\n"
          ]
        }
      ]
    },
    {
      "cell_type": "code",
      "source": [
        "print(f'DTC: {evaluator.evaluate(dtc_preds)}\\t Features Importance: {dtc_model.featureImportances}') \n",
        "print(f'RFC: {evaluator.evaluate(rfc_preds)} Features Importance: {rfc_model.featureImportances}')\n",
        "print(f'GBT: {evaluator.evaluate(gbt_preds)}\\t Features Importance: {gbt_model.featureImportances}')"
      ],
      "metadata": {
        "colab": {
          "base_uri": "https://localhost:8080/"
        },
        "id": "_9Uq9Vfd2S5t",
        "outputId": "c7a6229f-8d53-4ba3-ecb2-ae14d8775797"
      },
      "execution_count": null,
      "outputs": [
        {
          "output_type": "stream",
          "name": "stdout",
          "text": [
            "DTC: 0.9757575757575757\t Features Importance: (4,[0,1,2,3],[0.005203898066578417,0.018633043075897186,0.9448457659422271,0.03131729291529735])\n",
            "RFC: 0.9818181818181818 Features Importance: (4,[0,1,2,3],[0.02809578879732174,0.02447173774778857,0.9152241173745608,0.032208356080328945])\n",
            "GBT: 0.9757575757575757\t Features Importance: (4,[0,1,2,3],[0.03496010791356495,0.024365435757374924,0.8990271852620919,0.0416472710669682])\n"
          ]
        }
      ]
    },
    {
      "cell_type": "code",
      "source": [
        "evaluator.evaluate(gbt_preds, { evaluator.metricName: 'f1'})"
      ],
      "metadata": {
        "colab": {
          "base_uri": "https://localhost:8080/"
        },
        "id": "ZUS74TSD2VsQ",
        "outputId": "6525cee1-cf5b-40a5-fc22-7bd78a67d556"
      },
      "execution_count": null,
      "outputs": [
        {
          "output_type": "execute_result",
          "data": {
            "text/plain": [
              "0.9755959300716333"
            ]
          },
          "metadata": {},
          "execution_count": 38
        }
      ]
    },
    {
      "cell_type": "markdown",
      "source": [
        "Our aim was to determine what element in the dog food was causing it to spoil. With the .featureimportance command, we can find out what weight each column was having on the Spoiled column. As can be seen, in all cases column three always has the most weight, indicating that element C in the dog food is causing it to spoil."
      ],
      "metadata": {
        "id": "aWtu-KMxNcb8"
      }
    }
  ]
}